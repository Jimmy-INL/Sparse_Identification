{
 "cells": [
  {
   "cell_type": "code",
   "execution_count": 1,
   "metadata": {},
   "outputs": [],
   "source": [
    "import numpy as np\n",
    "import scipy as sp\n",
    "from sympy import *\n",
    "import matplotlib.pyplot as plt\n",
    "from sklearn.linear_model import LinearRegression, Ridge, Lasso\n",
    "from sklearn.preprocessing import PolynomialFeatures\n",
    "from sklearn.model_selection import train_test_split\n",
    "from matplotlib.gridspec import GridSpec \n",
    "from mpl_toolkits.mplot3d import Axes3D\n",
    "from scipy.linalg import block_diag\n",
    "from scipy.integrate import odeint\n",
    "%config InlineBackend.figure_format = 'retina'\n",
    "import pandas as pd"
   ]
  },
  {
   "cell_type": "code",
   "execution_count": 2,
   "metadata": {},
   "outputs": [],
   "source": [
    "#define dynamical system\n",
    "def logistic_map(x,r):\n",
    "    return x*r*(1-x)"
   ]
  },
  {
   "cell_type": "code",
   "execution_count": 3,
   "metadata": {},
   "outputs": [],
   "source": [
    "def logistic_map_bifurcation(x_0, n, n_skip):\n",
    "    #r_list = [2.5, 2.75, 3, 3.25, 3.5, 3.75, 3.8, 3.85, 3.9, 3.95]\n",
    "    r_list = [3.9]\n",
    "    R = []\n",
    "    X = []\n",
    "    for r in r_list:\n",
    "        x = x_0\n",
    "        for i in range(n):\n",
    "            if i>=n_skip:\n",
    "                X.append(x)\n",
    "                R.append(r)\n",
    "            x = logistic_map(x, r)\n",
    "    return X,R"
   ]
  },
  {
   "cell_type": "code",
   "execution_count": 4,
   "metadata": {},
   "outputs": [],
   "source": [
    "X, R = logistic_map_bifurcation(0.5, 1000, 0)"
   ]
  },
  {
   "cell_type": "code",
   "execution_count": 5,
   "metadata": {},
   "outputs": [],
   "source": [
    "dx = np.array(X[1:])\n",
    "X = np.array(X)"
   ]
  },
  {
   "cell_type": "code",
   "execution_count": 6,
   "metadata": {},
   "outputs": [],
   "source": [
    "# Non-linear function library\n",
    "library = PolynomialFeatures(degree=5, include_bias=True)\n",
    "# include_bias parameter is for the feature in which all polynomial powers are zero - column of ones\n",
    "Theta = library.fit_transform(X.reshape(-1,1)[:-1])\n",
    "function_library = pd.DataFrame(data=Theta, columns=library.get_feature_names())"
   ]
  },
  {
   "cell_type": "code",
   "execution_count": 7,
   "metadata": {
    "scrolled": false
   },
   "outputs": [
    {
     "data": {
      "text/html": [
       "<div>\n",
       "<style scoped>\n",
       "    .dataframe tbody tr th:only-of-type {\n",
       "        vertical-align: middle;\n",
       "    }\n",
       "\n",
       "    .dataframe tbody tr th {\n",
       "        vertical-align: top;\n",
       "    }\n",
       "\n",
       "    .dataframe thead th {\n",
       "        text-align: right;\n",
       "    }\n",
       "</style>\n",
       "<table border=\"1\" class=\"dataframe\">\n",
       "  <thead>\n",
       "    <tr style=\"text-align: right;\">\n",
       "      <th></th>\n",
       "      <th>1</th>\n",
       "      <th>x0</th>\n",
       "      <th>x0^2</th>\n",
       "      <th>x0^3</th>\n",
       "      <th>x0^4</th>\n",
       "      <th>x0^5</th>\n",
       "    </tr>\n",
       "  </thead>\n",
       "  <tbody>\n",
       "    <tr>\n",
       "      <th>0</th>\n",
       "      <td>1.0</td>\n",
       "      <td>0.500000</td>\n",
       "      <td>0.250000</td>\n",
       "      <td>0.125000</td>\n",
       "      <td>0.062500</td>\n",
       "      <td>0.031250</td>\n",
       "    </tr>\n",
       "    <tr>\n",
       "      <th>1</th>\n",
       "      <td>1.0</td>\n",
       "      <td>0.975000</td>\n",
       "      <td>0.950625</td>\n",
       "      <td>0.926859</td>\n",
       "      <td>0.903688</td>\n",
       "      <td>0.881096</td>\n",
       "    </tr>\n",
       "    <tr>\n",
       "      <th>2</th>\n",
       "      <td>1.0</td>\n",
       "      <td>0.095063</td>\n",
       "      <td>0.009037</td>\n",
       "      <td>0.000859</td>\n",
       "      <td>0.000082</td>\n",
       "      <td>0.000008</td>\n",
       "    </tr>\n",
       "    <tr>\n",
       "      <th>3</th>\n",
       "      <td>1.0</td>\n",
       "      <td>0.335500</td>\n",
       "      <td>0.112560</td>\n",
       "      <td>0.037764</td>\n",
       "      <td>0.012670</td>\n",
       "      <td>0.004251</td>\n",
       "    </tr>\n",
       "    <tr>\n",
       "      <th>4</th>\n",
       "      <td>1.0</td>\n",
       "      <td>0.869465</td>\n",
       "      <td>0.755969</td>\n",
       "      <td>0.657289</td>\n",
       "      <td>0.571490</td>\n",
       "      <td>0.496890</td>\n",
       "    </tr>\n",
       "  </tbody>\n",
       "</table>\n",
       "</div>"
      ],
      "text/plain": [
       "     1        x0      x0^2      x0^3      x0^4      x0^5\n",
       "0  1.0  0.500000  0.250000  0.125000  0.062500  0.031250\n",
       "1  1.0  0.975000  0.950625  0.926859  0.903688  0.881096\n",
       "2  1.0  0.095063  0.009037  0.000859  0.000082  0.000008\n",
       "3  1.0  0.335500  0.112560  0.037764  0.012670  0.004251\n",
       "4  1.0  0.869465  0.755969  0.657289  0.571490  0.496890"
      ]
     },
     "execution_count": 7,
     "metadata": {},
     "output_type": "execute_result"
    }
   ],
   "source": [
    "function_library.head()"
   ]
  },
  {
   "cell_type": "code",
   "execution_count": 8,
   "metadata": {},
   "outputs": [],
   "source": [
    "coeff, residuals, rank, s = np.linalg.lstsq(Theta, dx, rcond=None)\n",
    "treshold = 0.5\n",
    "for k in range(5):\n",
    "    coeff, residuals, rank, s = np.linalg.lstsq(Theta, dx, rcond=None) \n",
    "    coeff[np.abs(coeff) < treshold] = 0"
   ]
  },
  {
   "cell_type": "code",
   "execution_count": 9,
   "metadata": {},
   "outputs": [
    {
     "name": "stdout",
     "output_type": "stream",
     "text": [
      "Total number of possible coefficients: 6\n",
      "Number of non-zero coefficients: 2\n"
     ]
    }
   ],
   "source": [
    "coeff_df = pd.DataFrame(data=coeff, index=library.get_feature_names())\n",
    "print('Total number of possible coefficients:', coeff.size)\n",
    "print('Number of non-zero coefficients:', np.count_nonzero(coeff))"
   ]
  },
  {
   "cell_type": "code",
   "execution_count": 10,
   "metadata": {},
   "outputs": [
    {
     "data": {
      "text/html": [
       "<div>\n",
       "<style scoped>\n",
       "    .dataframe tbody tr th:only-of-type {\n",
       "        vertical-align: middle;\n",
       "    }\n",
       "\n",
       "    .dataframe tbody tr th {\n",
       "        vertical-align: top;\n",
       "    }\n",
       "\n",
       "    .dataframe thead th {\n",
       "        text-align: right;\n",
       "    }\n",
       "</style>\n",
       "<table border=\"1\" class=\"dataframe\">\n",
       "  <thead>\n",
       "    <tr style=\"text-align: right;\">\n",
       "      <th></th>\n",
       "      <th>0</th>\n",
       "    </tr>\n",
       "  </thead>\n",
       "  <tbody>\n",
       "    <tr>\n",
       "      <th>1</th>\n",
       "      <td>0.0</td>\n",
       "    </tr>\n",
       "    <tr>\n",
       "      <th>x0</th>\n",
       "      <td>3.9</td>\n",
       "    </tr>\n",
       "    <tr>\n",
       "      <th>x0^2</th>\n",
       "      <td>-3.9</td>\n",
       "    </tr>\n",
       "    <tr>\n",
       "      <th>x0^3</th>\n",
       "      <td>0.0</td>\n",
       "    </tr>\n",
       "    <tr>\n",
       "      <th>x0^4</th>\n",
       "      <td>0.0</td>\n",
       "    </tr>\n",
       "    <tr>\n",
       "      <th>x0^5</th>\n",
       "      <td>0.0</td>\n",
       "    </tr>\n",
       "  </tbody>\n",
       "</table>\n",
       "</div>"
      ],
      "text/plain": [
       "        0\n",
       "1     0.0\n",
       "x0    3.9\n",
       "x0^2 -3.9\n",
       "x0^3  0.0\n",
       "x0^4  0.0\n",
       "x0^5  0.0"
      ]
     },
     "execution_count": 10,
     "metadata": {},
     "output_type": "execute_result"
    }
   ],
   "source": [
    "coeff_df"
   ]
  }
 ],
 "metadata": {
  "kernelspec": {
   "display_name": "Python (ml)",
   "language": "python",
   "name": "ml"
  },
  "language_info": {
   "codemirror_mode": {
    "name": "ipython",
    "version": 3
   },
   "file_extension": ".py",
   "mimetype": "text/x-python",
   "name": "python",
   "nbconvert_exporter": "python",
   "pygments_lexer": "ipython3",
   "version": "3.8.0"
  }
 },
 "nbformat": 4,
 "nbformat_minor": 2
}
